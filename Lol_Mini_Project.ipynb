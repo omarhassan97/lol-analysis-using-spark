{
  "nbformat": 4,
  "nbformat_minor": 0,
  "metadata": {
    "colab": {
      "provenance": [],
      "collapsed_sections": [
        "9xTTM8s33-sB",
        "yyBcJIpeqSP7",
        "olHsCHmbfUM1",
        "kFN8DO33uHgV",
        "HwA0voIP6SkJ",
        "eQSX4EloJRL4",
        "lF5YSlQ_UEfL",
        "gj_8zsD6baZx",
        "D5Fedgs-Bgfm"
      ]
    },
    "kernelspec": {
      "name": "python3",
      "display_name": "Python 3"
    },
    "language_info": {
      "name": "python"
    }
  },
  "cells": [
    {
      "cell_type": "markdown",
      "source": [
        "# Environment Setup & Data Preparation"
      ],
      "metadata": {
        "id": "9xTTM8s33-sB"
      }
    },
    {
      "cell_type": "code",
      "metadata": {
        "colab": {
          "base_uri": "https://localhost:8080/"
        },
        "id": "4rrD4s_hF7wl",
        "outputId": "a8ed6c5d-78ab-407c-d13b-da49d4655afc"
      },
      "source": [
        "# Google Drive Mounting\n",
        "from google.colab import drive\n",
        "drive.mount('/content/drive')"
      ],
      "execution_count": null,
      "outputs": [
        {
          "output_type": "stream",
          "name": "stdout",
          "text": [
            "Mounted at /content/drive\n"
          ]
        }
      ]
    },
    {
      "cell_type": "code",
      "metadata": {
        "colab": {
          "base_uri": "https://localhost:8080/"
        },
        "id": "qAhyjSjgLQQ6",
        "outputId": "7957b035-b90c-4da9-e929-17b9eeac1bf5"
      },
      "source": [
        "# PySpark Installation\n",
        "!pip install pyspark"
      ],
      "execution_count": null,
      "outputs": [
        {
          "output_type": "stream",
          "name": "stdout",
          "text": [
            "Collecting pyspark\n",
            "  Downloading pyspark-3.2.0.tar.gz (281.3 MB)\n",
            "\u001b[K     |████████████████████████████████| 281.3 MB 37 kB/s \n",
            "\u001b[?25hCollecting py4j==0.10.9.2\n",
            "  Downloading py4j-0.10.9.2-py2.py3-none-any.whl (198 kB)\n",
            "\u001b[K     |████████████████████████████████| 198 kB 42.6 MB/s \n",
            "\u001b[?25hBuilding wheels for collected packages: pyspark\n",
            "  Building wheel for pyspark (setup.py) ... \u001b[?25l\u001b[?25hdone\n",
            "  Created wheel for pyspark: filename=pyspark-3.2.0-py2.py3-none-any.whl size=281805912 sha256=51e67c1c96a86e0e9f0dd491c7a78c847c2f6f02711880425179c284cdc7711a\n",
            "  Stored in directory: /root/.cache/pip/wheels/0b/de/d2/9be5d59d7331c6c2a7c1b6d1a4f463ce107332b1ecd4e80718\n",
            "Successfully built pyspark\n",
            "Installing collected packages: py4j, pyspark\n",
            "Successfully installed py4j-0.10.9.2 pyspark-3.2.0\n"
          ]
        }
      ]
    },
    {
      "cell_type": "code",
      "metadata": {
        "id": "qoICKkPSLUX8"
      },
      "source": [
        "# Libraries to be used\n",
        "from pyspark import SparkContext\n",
        "import json\n",
        "from itertools import combinations"
      ],
      "execution_count": null,
      "outputs": []
    },
    {
      "cell_type": "code",
      "source": [
        "# sc.stop()"
      ],
      "metadata": {
        "id": "AZvJpigWmWoK"
      },
      "execution_count": null,
      "outputs": []
    },
    {
      "cell_type": "code",
      "metadata": {
        "id": "UsXv5php0mqk"
      },
      "source": [
        "# Spark Context Initialization\n",
        "sc = SparkContext()"
      ],
      "execution_count": null,
      "outputs": []
    },
    {
      "cell_type": "code",
      "source": [
        "# Reading Data into an RDD\n",
        "filtered_match_RDD = sc.textFile(\"/content/drive/MyDrive/FilteredMatches/patch23matches.txt\").filter(lambda x : x != 'None')"
      ],
      "metadata": {
        "id": "JiEgDGS292Z-"
      },
      "execution_count": null,
      "outputs": []
    },
    {
      "cell_type": "code",
      "source": [
        "filtered_match_RDD.count()"
      ],
      "metadata": {
        "colab": {
          "base_uri": "https://localhost:8080/"
        },
        "id": "Ls86SwJsohew",
        "outputId": "748635d1-bfdc-4936-a5a3-8e86c61b6737"
      },
      "execution_count": null,
      "outputs": [
        {
          "output_type": "execute_result",
          "data": {
            "text/plain": [
              "72455"
            ]
          },
          "metadata": {},
          "execution_count": 8
        }
      ]
    },
    {
      "cell_type": "markdown",
      "source": [
        "# Requierments"
      ],
      "metadata": {
        "id": "yFLIcWtwRpD1"
      }
    },
    {
      "cell_type": "markdown",
      "metadata": {
        "id": "yyBcJIpeqSP7"
      },
      "source": [
        "## Champion Win Rate"
      ]
    },
    {
      "cell_type": "code",
      "metadata": {
        "id": "B6Rgy2JQ4e_a"
      },
      "source": [
        "# Champion Name Function\n",
        "# it returns a list of all the matches the champion has palyed and whether won or lost\n",
        "def champion(line):\n",
        "  champs = []\n",
        "  try:\n",
        "    match = json.loads(line)\n",
        "    for i in range(10):\n",
        "        champName = match[\"info\"][\"participants\"][i][\"championName\"]\n",
        "        is_win = int(match[\"info\"][\"participants\"][i][\"win\"])\n",
        "        champ = (champName,is_win)\n",
        "        champs.append(champ)\n",
        "  except:\n",
        "    return champs\n",
        "  return champs"
      ],
      "execution_count": null,
      "outputs": []
    },
    {
      "cell_type": "code",
      "metadata": {
        "id": "sNGZ5Nnq4U7c"
      },
      "source": [
        "# Getting champions' names and winning status\n",
        "champ_RDD = filtered_match_RDD.flatMap(champion)\n",
        "\n",
        "# Filtering the Champions RDD according to their winning status\n",
        "win_champ_RDD = champ_RDD.filter(lambda x:x[1] == 1)\n",
        "\n",
        "# Grouping both RDDs by key\n",
        "grouped_champ_RDD = champ_RDD.groupByKey()\n",
        "grouped_win_champ_RDD = win_champ_RDD.groupByKey()\n",
        "\n",
        "# Overwriting the RDDs to make them champion names and numbers\n",
        "simple_grouped_champ_RDD = grouped_champ_RDD.map(lambda x: (x[0], len(list(x[1]))))\n",
        "simple_grouped_win_champ_RDD = grouped_win_champ_RDD.map(lambda x: (x[0], len(list(x[1]))))\n",
        "\n",
        "# Joining the two RDDs\n",
        "joined = simple_grouped_win_champ_RDD.join(simple_grouped_champ_RDD)\n",
        "\n",
        "# Claculating champion win rate\n",
        "champ_win_rate = joined.map(lambda x: (x[0],(x[1][0] / x[1][1]) * 100 ))"
      ],
      "execution_count": null,
      "outputs": []
    },
    {
      "cell_type": "code",
      "source": [
        "champ_win_rate.take(5)"
      ],
      "metadata": {
        "colab": {
          "base_uri": "https://localhost:8080/"
        },
        "id": "mFsCvt1RHvFl",
        "outputId": "83e367f6-b30e-4985-e38f-cc937a5d2763"
      },
      "execution_count": null,
      "outputs": [
        {
          "output_type": "execute_result",
          "data": {
            "text/plain": [
              "[('Lulu', 50.54357512029941),\n",
              " ('Mordekaiser', 49.712753734201456),\n",
              " ('Tryndamere', 49.715909090909086),\n",
              " ('Yasuo', 50.457553146557785),\n",
              " ('Yorick', 54.438860971524285)]"
            ]
          },
          "metadata": {},
          "execution_count": 42
        }
      ]
    },
    {
      "cell_type": "markdown",
      "metadata": {
        "id": "rjlsvO3LqHzA"
      },
      "source": [
        "## Champion Pick rate"
      ]
    },
    {
      "cell_type": "code",
      "metadata": {
        "id": "TVcR264eqMRa"
      },
      "source": [
        "# Champion pick function\n",
        "def champion_pick(line):\n",
        "  champs = []\n",
        "  try:\n",
        "    match = json.loads(line)\n",
        "    for i in range(10):\n",
        "        champName = match[\"info\"][\"participants\"][i][\"championName\"]\n",
        "        champs.append((champName, 1))\n",
        "  except:\n",
        "    return champs\n",
        "  return champs"
      ],
      "execution_count": null,
      "outputs": []
    },
    {
      "cell_type": "code",
      "metadata": {
        "id": "0N0GAIC6YsrA"
      },
      "source": [
        "# Getting champions pick status\n",
        "picked_champs = filtered_match_RDD.flatMap(champion_pick)\n",
        "\n",
        "# Grouping by key\n",
        "grouped_picked_champs = picked_champs.groupByKey()\n",
        "\n",
        "# Overwriting the RDD to make it champion names and numbers\n",
        "simple_grouped_picked_champs = grouped_picked_champs.map(lambda x: (x[0], len(list(x[1]))))\n",
        "\n",
        "# Getting the number of matches\n",
        "num_of_matches = filtered_match_RDD.count()\n",
        "\n",
        "# Calculating the champion pick rate\n",
        "# We divide by the number of matches because a champion can only be picked once in a match\n",
        "champs_pick_rate = simple_grouped_picked_champs.map(lambda x : (x[0], (x[1] / num_of_matches) * 100))"
      ],
      "execution_count": null,
      "outputs": []
    },
    {
      "cell_type": "code",
      "source": [
        "champs_pick_rate.take(5)"
      ],
      "metadata": {
        "colab": {
          "base_uri": "https://localhost:8080/"
        },
        "id": "ZuFk2uPbVltr",
        "outputId": "324dceae-ce78-46a1-e194-887340b3a1a4"
      },
      "execution_count": null,
      "outputs": [
        {
          "output_type": "execute_result",
          "data": {
            "text/plain": [
              "[('Ezreal', 14.655993375198397),\n",
              " ('Lulu', 7.744117038161617),\n",
              " ('Mordekaiser', 7.207232075081086),\n",
              " ('Tryndamere', 8.258919329238838),\n",
              " ('Yasuo', 19.606652404941)]"
            ]
          },
          "metadata": {},
          "execution_count": 45
        }
      ]
    },
    {
      "cell_type": "markdown",
      "metadata": {
        "id": "olHsCHmbfUM1"
      },
      "source": [
        "## Champion Ban Rate"
      ]
    },
    {
      "cell_type": "code",
      "metadata": {
        "id": "_DTeMKSgepFg"
      },
      "source": [
        "# Banned champion function\n",
        "def champion_ban(line):\n",
        "  champs = []\n",
        "  try:\n",
        "    match = json.loads(line)\n",
        "    for i in range(5):\n",
        "        champName = match[\"info\"][\"teams\"][0]['bans'][i]['championId']\n",
        "        champs.append((champName, 1))\n",
        "        champName = match[\"info\"][\"teams\"][1]['bans'][i]['championId']\n",
        "        champs.append((champName, 1))\n",
        "  except:\n",
        "    return champs\n",
        "  return champs"
      ],
      "execution_count": null,
      "outputs": []
    },
    {
      "cell_type": "code",
      "metadata": {
        "id": "deJEswmgkC0e"
      },
      "source": [
        "# Getting an RDD of the banned champions\n",
        "banned_champs = filtered_match_RDD.flatMap(champion_ban)\n",
        "\n",
        "# Grouping the banned champions RDD by key\n",
        "grouped_banned_champs = banned_champs.groupByKey()\n",
        "\n",
        "# Simplyfying the RDD\n",
        "simple_grouped_banned_champs = grouped_banned_champs.map(lambda x: (x[0], len(list(x[1]))))\n",
        "\n",
        "# Getting double the number of matches\n",
        "double_num_of_matches = 2 * filtered_match_RDD.count()\n",
        "\n",
        "# Calculating the champion ban rate\n",
        "# We divide by the double of number of matches because a champion can only be banned twice in a match\n",
        "champs_ban_rate = simple_grouped_banned_champs.map(lambda x : (x[0], (x[1] / double_num_of_matches) * 100))"
      ],
      "execution_count": null,
      "outputs": []
    },
    {
      "cell_type": "code",
      "source": [
        "champs_ban_rate.take(5)"
      ],
      "metadata": {
        "colab": {
          "base_uri": "https://localhost:8080/"
        },
        "id": "EcJgWzpYrKo3",
        "outputId": "193abca5-8bb2-458d-e8c4-2052b80e0034"
      },
      "execution_count": null,
      "outputs": [
        {
          "output_type": "execute_result",
          "data": {
            "text/plain": [
              "[(240, 0.4575253605686288),\n",
              " (360, 5.1521634117728246),\n",
              " (120, 2.4856807673728523),\n",
              " (121, 4.431716237664758),\n",
              " (1, 0.9046994686357048)]"
            ]
          },
          "metadata": {},
          "execution_count": 48
        }
      ]
    },
    {
      "cell_type": "markdown",
      "metadata": {
        "id": "7t2etRArE4og"
      },
      "source": [
        "## Champions Synergy"
      ]
    },
    {
      "cell_type": "code",
      "metadata": {
        "id": "Uh6wkygJE9XC"
      },
      "source": [
        "# Champion pairs function\n",
        "def Pairs(line):\n",
        "  winners = []\n",
        "  losers = []\n",
        "  champions = []\n",
        "  try:\n",
        "    match = json.loads(line)\n",
        "    for i in range(10):\n",
        "      if match[\"info\"][\"participants\"][i][\"win\"]:\n",
        "        winners.append(match[\"info\"][\"participants\"][i][\"championName\"])\n",
        "      else:\n",
        "        losers.append(match[\"info\"][\"participants\"][i][\"championName\"])\n",
        "    winning_pair = list(combinations(sorted(winners), 2))\n",
        "    losing_pair = list(combinations(sorted(losers), 2))\n",
        "    for i in range(10):\n",
        "      winning_pair[i] = (winning_pair[i][0] + '_' + winning_pair[i][1], 1)\n",
        "      losing_pair[i] = (losing_pair[i][0] + '_' + losing_pair[i][1], 0)\n",
        "    champions.extend(winning_pair)\n",
        "    champions.extend(losing_pair)\n",
        "  except:\n",
        "    return champions\n",
        "  return champions"
      ],
      "execution_count": null,
      "outputs": []
    },
    {
      "cell_type": "code",
      "metadata": {
        "id": "-TFw3tOBFAFg"
      },
      "source": [
        "# Getting champion pairs RDD\n",
        "champs_pairs_0 = data.flatMap(Pairs)\n",
        "\n",
        "# Getting winning champion pairs RDD\n",
        "winners_pairs_0 = champs_pairs_0.filter(lambda x : x[1] == 1)\n",
        "\n",
        "# Group champion pairs and winning champion pairs by key\n",
        "champs_pairs_1 = champs_pairs_0.groupByKey()\n",
        "winners_pairs_1 = winners_pairs_0.groupByKey()\n",
        "\n",
        "# Simplyfying the RDDs\n",
        "champs_pairs_2 = champs_pairs_1.map(lambda x: (x[0], len(list(x[1]))))\n",
        "winners_pairs_2 = winners_pairs_1.map(lambda x: (x[0], len(list(x[1]))))\n",
        "\n",
        "# Joining the RDDs\n",
        "pairs_0 = winners_pairs_2.join(champs_pairs_2)\n",
        "\n",
        "# Calculating the pairs win rate\n",
        "pairs_win_rate = pairs_0.map(lambda x: (x[0],(x[1][0] / x[1][1]) * 100 ))\n",
        "\n",
        "# Calculating the pairs pick rate\n",
        "pairs_pick_rate = champs_pairs_2.map(lambda x : (x[0], (x[1] / num_of_matches) * 100))\n",
        "\n",
        "# Champions synergy\n",
        "pairs_synergy_0 = pairs_win_rate.join(pairs_pick_rate)\n",
        "pairs_synergy_1 = pairs_synergy_0.map(lambda x: (x[0],((x[1][0] * 0.3) + (x[1][1] * 0.7)))"
      ],
      "execution_count": null,
      "outputs": []
    },
    {
      "cell_type": "code",
      "metadata": {
        "id": "BPxE2vICFPIQ",
        "colab": {
          "base_uri": "https://localhost:8080/"
        },
        "outputId": "1ded429e-a276-4320-ead7-3c0dc854ff57"
      },
      "source": [
        "champions_win_rate.take(5)"
      ],
      "execution_count": null,
      "outputs": [
        {
          "output_type": "execute_result",
          "data": {
            "text/plain": [
              "[('FiddleSticks_Pyke', 41.935483870967744),\n",
              " ('Jax_Jhin', 51.63316582914573),\n",
              " ('LeeSin_Velkoz', 44.73684210526316),\n",
              " ('Chogath_Katarina', 53.84615384615385),\n",
              " ('Ashe_Xerath', 49.473684210526315)]"
            ]
          },
          "metadata": {},
          "execution_count": 51
        }
      ]
    },
    {
      "cell_type": "markdown",
      "metadata": {
        "id": "kFN8DO33uHgV"
      },
      "source": [
        "## Item win rate"
      ]
    },
    {
      "cell_type": "code",
      "metadata": {
        "id": "Sc1Y7lr9uG8D"
      },
      "source": [
        "# Item win function\n",
        "def item(line):\n",
        "  items = []\n",
        "  try:\n",
        "    match = json.loads(line)\n",
        "    for i in range(10):\n",
        "      for j in range(7):\n",
        "        item = match[\"info\"][\"participants\"][i][\"item\" + str(j)]\n",
        "        is_win = int(match[\"info\"][\"participants\"][i][\"win\"])\n",
        "        key = (item, is_win)\n",
        "        items.append(key)\n",
        "  except:\n",
        "    return items\n",
        "  return items"
      ],
      "execution_count": null,
      "outputs": []
    },
    {
      "cell_type": "code",
      "metadata": {
        "id": "ylsLzvAlzDPY"
      },
      "source": [
        "# Getting the items RDD\n",
        "item_RDD = filtered_match_RDD.flatMap(item)\n",
        "\n",
        "# Gettting the wim items RDD\n",
        "win_item_RDD = item_RDD.filter(lambda x : x[1] == 1)\n",
        "\n",
        "# Grouping both the RDDs by key\n",
        "grouped_item_RDD = item_RDD.groupByKey()\n",
        "grouped_win_item_RDD = win_item_RDD.groupByKey()\n",
        "\n",
        "# Simplyfying the RDDs\n",
        "simple_grouped_item_RDD = grouped_item_RDD.map(lambda x: (x[0], len(list(x[1]))))\n",
        "simple_grouped_win_item_RDD = grouped_win_item_RDD.map(lambda x: (x[0], len(list(x[1]))))\n",
        "\n",
        "# Joining the two RDDs\n",
        "joined = simple_grouped_win_item_RDD.join(simple_grouped_item_RDD)\n",
        "\n",
        "# Calculating the items win rate\n",
        "item_win_rate = joined.map(lambda x : (x[0], (x[1][0] / x[1][1]) * 100 ))"
      ],
      "execution_count": null,
      "outputs": []
    },
    {
      "cell_type": "code",
      "metadata": {
        "id": "dmlTDRrx5Ckr",
        "colab": {
          "base_uri": "https://localhost:8080/"
        },
        "outputId": "4c50312b-780f-46a2-db1e-0e1cf036f09c"
      },
      "source": [
        "item_win_rate.take(5)"
      ],
      "execution_count": null,
      "outputs": [
        {
          "output_type": "execute_result",
          "data": {
            "text/plain": [
              "[(0, 43.013918320280816),\n",
              " (3121, 54.59053556248229),\n",
              " (3363, 52.60964912280702),\n",
              " (3123, 41.106128550074736),\n",
              " (2403, 34.68208092485549)]"
            ]
          },
          "metadata": {},
          "execution_count": 54
        }
      ]
    },
    {
      "cell_type": "markdown",
      "metadata": {
        "id": "HwA0voIP6SkJ"
      },
      "source": [
        "## Item pick rate"
      ]
    },
    {
      "cell_type": "code",
      "metadata": {
        "id": "4ZrXEtn76VDO"
      },
      "source": [
        "# Getting the items RDD\n",
        "item_RDD = filtered_match_RDD.flatMap(item)\n",
        "\n",
        "# Grouping both the RDDs by key\n",
        "grouped_item_RDD = item_RDD.groupByKey()\n",
        "\n",
        "# Simplyfying the RDDs\n",
        "simple_grouped_item_RDD = grouped_item_RDD.map(lambda x: (x[0], len(list(x[1]))))\n",
        "\n",
        "# Calculating the number of all items\n",
        "# it's seventy times teh number of matches as each player can have seven items and 10 players in the match\n",
        "num_of_items = 70 * filtered_match_RDD.count()\n",
        "\n",
        "# Calculating the items pick rate\n",
        "item_pick_rate = simple_grouped_item_RDD.map(lambda x : (x[0], (x[1] / num_of_items) * 100))"
      ],
      "execution_count": null,
      "outputs": []
    },
    {
      "cell_type": "code",
      "metadata": {
        "id": "SHIOEOmb8d1W",
        "colab": {
          "base_uri": "https://localhost:8080/"
        },
        "outputId": "ce92f110-f5cd-4060-b89d-87494e41aaa4"
      },
      "source": [
        "item_pick_rate.take(5)"
      ],
      "execution_count": null,
      "outputs": [
        {
          "output_type": "execute_result",
          "data": {
            "text/plain": [
              "[(0, 8.532172678608397),\n",
              " (3001, 0.3389690152508454),\n",
              " (3121, 0.13916026696373118),\n",
              " (1082, 0.5079606060904798),\n",
              " (3363, 1.8880684562832102)]"
            ]
          },
          "metadata": {},
          "execution_count": 56
        }
      ]
    },
    {
      "cell_type": "markdown",
      "metadata": {
        "id": "eQSX4EloJRL4"
      },
      "source": [
        "## Item and Champion Synergy"
      ]
    },
    {
      "cell_type": "code",
      "metadata": {
        "id": "SWBmDJCtRgTl"
      },
      "source": [
        "# Item Champion function\n",
        "# It returns a list of keys of the champion and items used in the match\n",
        "def item_champ(line):\n",
        "  champs_items = []\n",
        "  try:\n",
        "    match = json.loads(line)\n",
        "    for i in range(10):\n",
        "      champ = match[\"info\"][\"participants\"][i]['championName']\n",
        "      is_win = int(match[\"info\"][\"participants\"][i][\"win\"])\n",
        "      for j in range(7):\n",
        "        item = match[\"info\"][\"participants\"][i][\"item\" + str(j)]\n",
        "        key = (champ + \"|\" + str(item), is_win)\n",
        "        champs_items.append(key)\n",
        "  except:\n",
        "    return champs_items\n",
        "  return champs_items"
      ],
      "execution_count": null,
      "outputs": []
    },
    {
      "cell_type": "code",
      "metadata": {
        "id": "Lsgu7BdXR8Ih"
      },
      "source": [
        "# Getting the matches the champion has won with that item\n",
        "win_champ_item_RDD = filtered_match_RDD.flatMap(item_champ).filter(lambda x : x[1] == 1)\n",
        "\n",
        "# Getting the matches the champion has lost with that item\n",
        "lose_champ_item_RDD = filtered_match_RDD.flatMap(item_champ).filter(lambda x : x[1] == 0)\n",
        "\n",
        "# Getting all the matches the champion has played and won regardless of the item\n",
        "win_champ_RDD = filtered_match_RDD.flatMap(champion).filter(lambda x : x[1] == 1)\n",
        "\n",
        "# Getting all the matches the champion has played and lost regardless of the item\n",
        "lose_champ_RDD = filtered_match_RDD.flatMap(champion).filter(lambda x : x[1] == 0)\n",
        "\n",
        "# Grouping the RDDs by keys\n",
        "grouped_win_champ_item_RDD = win_champ_item_RDD.groupByKey()\n",
        "grouped_win_champ_RDD = win_champ_RDD.groupByKey()\n",
        "grouped_lose_champ_item_RDD = lose_champ_item_RDD.groupByKey()\n",
        "grouped_lose_champ_RDD = lose_champ_RDD.groupByKey()\n",
        "\n",
        "\n",
        "# Simplyfying the RDDs\n",
        "simple_grouped_win_champ_item_RDD = grouped_win_champ_item_RDD.map(lambda x : (x[0], len(list(x[1]))))\n",
        "simple_grouped_win_champ_RDD = grouped_win_champ_RDD.map(lambda x : (x[0], len(list(x[1]))))\n",
        "simple_grouped_lose_champ_item_RDD = grouped_lose_champ_item_RDD.map(lambda x : (x[0], len(list(x[1]))))\n",
        "simple_grouped_lose_champ_RDD = grouped_lose_champ_RDD.map(lambda x : (x[0], len(list(x[1]))))\n",
        "\n",
        "# Separate the champion name from the item id\n",
        "simple_grouped_win_champ_item_RDD = simple_grouped_win_champ_item_RDD.map(lambda x : (x[0].split('|'), x[1]))\n",
        "simple_grouped_lose_champ_item_RDD = simple_grouped_lose_champ_item_RDD.map(lambda x : (x[0].split('|'), x[1]))\n",
        "\n",
        "# Make the champion name only the key\n",
        "simple_grouped_win_champ_item_RDD = simple_grouped_win_champ_item_RDD.map(lambda x : (x[0][0], (x[0][1], x[1])))\n",
        "simple_grouped_lose_champ_item_RDD = simple_grouped_lose_champ_item_RDD.map(lambda x : (x[0][0], (x[0][1], x[1])))\n",
        "\n",
        "# Joining the RDDs\n",
        "joined_win = simple_grouped_win_champ_item_RDD.join(simple_grouped_win_champ_RDD)\n",
        "joined_lose = simple_grouped_lose_champ_item_RDD.join(simple_grouped_lose_champ_RDD)\n",
        "\n",
        "# Calculate the champion with item win and lose rate which indicates the synergy between them\n",
        "champ_item_win_rate = joined_win.map(lambda x : (x[0] + '|' + x[1][0][0], (x[1][0][1] / x[1][1]) * 100))\n",
        "champ_item_lose_rate = joined_lose.map(lambda x : (x[0] + '|' + x[1][0][0], (x[1][0][1] / x[1][1]) * 100))\n",
        "\n",
        "# Calculate synergy\n",
        "champ_item_synergy = champ_item_win_rate.join(champ_item_lose_rate)\n",
        "champ_item_synergy = champ_item_synergy.map(lambda x : (x[0], (x[1][0] - x[1][1])))\n",
        "\n",
        "# Separate the key to be the champion only\n",
        "champ_item_synergy = champ_item_synergy.map(lambda x : (x[0].split('|'), x[1]))\n",
        "champ_item_synergy_keyed = champ_item_synergy.map(lambda x : (x[0][0], (x[0][1], x[1])))\n",
        "\n",
        "# Sorting\n",
        "synergy_sorted = champ_item_synergy_keyed.sortBy(lambda x : x[1][1], ascending = False)"
      ],
      "execution_count": null,
      "outputs": []
    },
    {
      "cell_type": "markdown",
      "metadata": {
        "id": "lF5YSlQ_UEfL"
      },
      "source": [
        "\n",
        "## Item and Class synergy"
      ]
    },
    {
      "cell_type": "code",
      "metadata": {
        "id": "cK7mUd_9Urp1"
      },
      "source": [
        "def item_lane(line):\n",
        "  items_lane = []\n",
        "  try:\n",
        "    match = json.loads(line)\n",
        "    for i in range(10):\n",
        "      lane = match[\"info\"][\"participants\"][i]['lane']\n",
        "      is_win = int(match[\"info\"][\"participants\"][i][\"win\"])\n",
        "      for j in range(7):\n",
        "        item = match[\"info\"][\"participants\"][i][\"item\" + str(j)]\n",
        "        key = (lane + \"|\" + str(item), is_win)\n",
        "        items_lane.append(key)\n",
        "  except:\n",
        "    return items_lane\n",
        "  return items_lane"
      ],
      "execution_count": null,
      "outputs": []
    },
    {
      "cell_type": "code",
      "metadata": {
        "id": "WIrNPqdrU1Zf"
      },
      "source": [
        "# Getting the class item RDD\n",
        "class_item_RDD = filtered_match_RDD.flatMap(item_lane)\n",
        "\n",
        "# Getting the winning class item RDD\n",
        "win_class_item_RDD = class_item_RDD.filter(lambda x : x[1] == 1)\n",
        "\n",
        "# Grouping both the RDDs by keys\n",
        "grouped_class_item_RDD = class_item_RDD.groupByKey()\n",
        "grouped_win_class_item_RDD = win_class_item_RDD.groupByKey()\n",
        "\n",
        "# Simplyfying the RDDs\n",
        "simple_grouped_class_item_RDD = grouped_class_item_RDD.map(lambda x : (x[0], len(list(x[1]))))\n",
        "simple_grouped_win_class_item_RDD = grouped_win_class_item_RDD.map(lambda x : (x[0], len(list(x[1]))))\n",
        "\n",
        "# Joining the two RDDs\n",
        "joined_class_item = simple_grouped_win_class_item_RDD.join(simple_grouped_class_item_RDD)\n",
        "\n",
        "# Calculating the item win rate associated with each class which indicates the class and item synergy\n",
        "class_item_win_rate = joined_class_item.map(lambda x : (x[0], (x[1][0] / x[1][1]) * 100 ))"
      ],
      "execution_count": null,
      "outputs": []
    },
    {
      "cell_type": "code",
      "metadata": {
        "colab": {
          "base_uri": "https://localhost:8080/"
        },
        "id": "EaQrZJU2U3-n",
        "outputId": "5e559892-1491-4aa1-aa52-83878b5b0201"
      },
      "source": [
        "class_item_win_rate.take(5)"
      ],
      "execution_count": null,
      "outputs": [
        {
          "output_type": "execute_result",
          "data": {
            "text/plain": [
              "[('NONE|2033', 48.06041881222108),\n",
              " ('MIDDLE|4633', 51.859196826970745),\n",
              " ('NONE|3066', 67.98418972332016),\n",
              " ('MIDDLE|7023', 58.333333333333336),\n",
              " ('BOTTOM|3026', 58.98979968047192)]"
            ]
          },
          "metadata": {},
          "execution_count": 62
        }
      ]
    },
    {
      "cell_type": "code",
      "metadata": {
        "id": "8lAmxb9wWwc_"
      },
      "source": [],
      "execution_count": null,
      "outputs": []
    },
    {
      "cell_type": "markdown",
      "metadata": {
        "id": "Sv3dxjbnbVjj"
      },
      "source": [
        "## Item Suggestion\n",
        "It's based on the champion item synergy the item with highest win rate to with the champion is suggested to him."
      ]
    },
    {
      "cell_type": "code",
      "source": [
        "#### Getting the RDD of synergies\n",
        "# Getting the matches the champion has won with that item\n",
        "win_champ_item_RDD = filtered_match_RDD.flatMap(item_champ).filter(lambda x : x[1] == 1)\n",
        "\n",
        "# Getting the matches the champion has lost with that item\n",
        "lose_champ_item_RDD = filtered_match_RDD.flatMap(item_champ).filter(lambda x : x[1] == 0)\n",
        "\n",
        "# Getting all the matches the champion has played and won regardless of the item\n",
        "win_champ_RDD = filtered_match_RDD.flatMap(champion).filter(lambda x : x[1] == 1)\n",
        "\n",
        "# Getting all the matches the champion has played and lost regardless of the item\n",
        "lose_champ_RDD = filtered_match_RDD.flatMap(champion).filter(lambda x : x[1] == 0)\n",
        "\n",
        "# Grouping the RDDs by keys\n",
        "grouped_win_champ_item_RDD = win_champ_item_RDD.groupByKey()\n",
        "grouped_win_champ_RDD = win_champ_RDD.groupByKey()\n",
        "grouped_lose_champ_item_RDD = lose_champ_item_RDD.groupByKey()\n",
        "grouped_lose_champ_RDD = lose_champ_RDD.groupByKey()\n",
        "\n",
        "\n",
        "# Simplyfying the RDDs\n",
        "simple_grouped_win_champ_item_RDD = grouped_win_champ_item_RDD.map(lambda x : (x[0], len(list(x[1]))))\n",
        "simple_grouped_win_champ_RDD = grouped_win_champ_RDD.map(lambda x : (x[0], len(list(x[1]))))\n",
        "simple_grouped_lose_champ_item_RDD = grouped_lose_champ_item_RDD.map(lambda x : (x[0], len(list(x[1]))))\n",
        "simple_grouped_lose_champ_RDD = grouped_lose_champ_RDD.map(lambda x : (x[0], len(list(x[1]))))\n",
        "\n",
        "# Separate the champion name from the item id\n",
        "simple_grouped_win_champ_item_RDD = simple_grouped_win_champ_item_RDD.map(lambda x : (x[0].split('|'), x[1]))\n",
        "simple_grouped_lose_champ_item_RDD = simple_grouped_lose_champ_item_RDD.map(lambda x : (x[0].split('|'), x[1]))\n",
        "\n",
        "# Make the champion name only the key\n",
        "simple_grouped_win_champ_item_RDD = simple_grouped_win_champ_item_RDD.map(lambda x : (x[0][0], (x[0][1], x[1])))\n",
        "simple_grouped_lose_champ_item_RDD = simple_grouped_lose_champ_item_RDD.map(lambda x : (x[0][0], (x[0][1], x[1])))\n",
        "\n",
        "# Joining the RDDs\n",
        "joined_win = simple_grouped_win_champ_item_RDD.join(simple_grouped_win_champ_RDD)\n",
        "joined_lose = simple_grouped_lose_champ_item_RDD.join(simple_grouped_lose_champ_RDD)\n",
        "\n",
        "# Calculate the champion with item win and lose rate which indicates the synergy between them\n",
        "champ_item_win_rate = joined_win.map(lambda x : (x[0] + '|' + x[1][0][0], (x[1][0][1] / x[1][1]) * 100))\n",
        "champ_item_lose_rate = joined_lose.map(lambda x : (x[0] + '|' + x[1][0][0], (x[1][0][1] / x[1][1]) * 100))\n",
        "\n",
        "# Calculate synergy\n",
        "champ_item_synergy = champ_item_win_rate.join(champ_item_lose_rate)\n",
        "champ_item_synergy = champ_item_synergy.map(lambda x : (x[0], (x[1][0] - x[1][1])))\n",
        "\n",
        "# Separate the key to be the champion only\n",
        "champ_item_synergy = champ_item_synergy.map(lambda x : (x[0].split('|'), x[1]))\n",
        "champ_item_synergy_keyed = champ_item_synergy.map(lambda x : (x[0][0], (x[0][1], x[1])))\n",
        "\n",
        "# Sorting\n",
        "synergy_sorted = champ_item_synergy_keyed.sortBy(lambda x : x[1][1], ascending = False)\n",
        "\n",
        "\n",
        "\n",
        "#### Suggestion\n",
        "# suggest the item with highest synergy for the champion"
      ],
      "metadata": {
        "id": "i8RHU89FfUbm"
      },
      "execution_count": null,
      "outputs": []
    },
    {
      "cell_type": "markdown",
      "metadata": {
        "id": "gj_8zsD6baZx"
      },
      "source": [
        "## Longest Time Spent Living"
      ]
    },
    {
      "cell_type": "code",
      "metadata": {
        "id": "fmUA6o9nb7oC"
      },
      "source": [
        "# Champ Time function\n",
        "# It returns the longest time spent living by each champion in the game\n",
        "def champ_time(line):\n",
        "  champ_times = []\n",
        "  try:\n",
        "    match = json.loads(line)\n",
        "    for i in range(10):\n",
        "      longest_time = match[\"info\"][\"participants\"][i][\"longestTimeSpentLiving\"]\n",
        "      champ = match[\"info\"][\"participants\"][i]['championName']\n",
        "      champ_longest_time = (champ, longest_time)\n",
        "      champ_times.append(champ_longest_time)\n",
        "  except:\n",
        "    return champ_times\n",
        "  return champ_times"
      ],
      "execution_count": null,
      "outputs": []
    },
    {
      "cell_type": "code",
      "metadata": {
        "id": "mqTPoiIpdwmc"
      },
      "source": [
        "# Getting the champion and its longest time RDD\n",
        "champ_longest_time_RDD  = filtered_match_RDD.flatMap(champ_time)\n",
        "\n",
        "# Grouping by key\n",
        "grouped_champ_longest_time_RDD = champ_longest_time_RDD.groupByKey()\n",
        "\n",
        "# Calculated the average longest time for each champion\n",
        "champ_average_longest_time_RDD = grouped_champ_longest_time_RDD.map(lambda x : (x[0], sum(list(x[1])) / len(list(x[1]))))\n",
        "\n",
        "# Sorting the averages\n",
        "champ_average_longest_time_sorted_RDD = champ_average_longest_time_RDD.sortBy(lambda x : x[1])"
      ],
      "execution_count": null,
      "outputs": []
    },
    {
      "cell_type": "code",
      "metadata": {
        "id": "5darqXNcj69U"
      },
      "source": [
        "champ_average_longest_time_sorted_RDD.take(50)"
      ],
      "execution_count": null,
      "outputs": []
    },
    {
      "cell_type": "markdown",
      "source": [
        "## Physical VS Magical Damage"
      ],
      "metadata": {
        "id": "D5Fedgs-Bgfm"
      }
    },
    {
      "cell_type": "code",
      "source": [
        "# Champion Physical Damage function\n",
        "# It returns the pair of the champion name and its physical damage in the match\n",
        "def champ_physical_damage(line):\n",
        "  champs_physical_damage = []\n",
        "  try :\n",
        "    match = json.loads(line)\n",
        "    for i in range(10):\n",
        "      champ_name = match[\"info\"][\"participants\"][i]['championName']\n",
        "      physical_damage = match[\"info\"][\"participants\"][i]['physicalDamageDealt']\n",
        "      key = (champ_name, physical_damage)\n",
        "      champs_physical_damage.append(key)\n",
        "  except :\n",
        "    return champs_physical_damage\n",
        "  return champs_physical_damage\n",
        "\n",
        "\n",
        "\n",
        "\n",
        "# Champion Magical Damage function\n",
        "# It returns the pair of the champion name and its magical damage in the match\n",
        "def champ_magical_damage(line):\n",
        "  champs_magical_damage = []\n",
        "  try :\n",
        "    match = json.loads(line)\n",
        "    for i in range(10):\n",
        "      champ_name = match[\"info\"][\"participants\"][i]['championName']\n",
        "      magical_damage = match[\"info\"][\"participants\"][i]['magicDamageDealt']\n",
        "      key = (champ_name, magical_damage)\n",
        "      champs_magical_damage.append(key)\n",
        "  except :\n",
        "    return champs_magical_damage\n",
        "  return champs_magical_damage"
      ],
      "metadata": {
        "id": "XEgss18wBktP"
      },
      "execution_count": null,
      "outputs": []
    },
    {
      "cell_type": "code",
      "source": [
        "# Getting the champions and their damage RDDs\n",
        "champs_physical_damage_RDD = filtered_match_RDD.flatMap(champ_physical_damage)\n",
        "champs_magical_damage_RDD = filtered_match_RDD.flatMap(champ_magical_damage)\n",
        "\n",
        "# Grouping the RDDs by keys\n",
        "grouped_champs_physical_damage_RDD = champs_physical_damage_RDD.groupByKey()\n",
        "grouped_champs_magical_damage_RDD = champs_magical_damage_RDD.groupByKey()\n",
        "\n",
        "# Averaging the RDDs\n",
        "champs_average_physical_damage_RDD = grouped_champs_physical_damage_RDD.map(lambda x : (x[0], sum(list(x[1])) / len(list(x[1]))))\n",
        "champs_average_magical_damage_RDD = grouped_champs_magical_damage_RDD.map(lambda x : (x[0], sum(list(x[1])) / len(list(x[1]))))\n",
        "\n",
        "# Joining the two RDDs\n",
        "# When comparing the average physical and magical damage of the champion we can find out its strengh\n",
        "champs_damage_RDD = champs_average_physical_damage_RDD.join(champs_average_magical_damage_RDD)\n",
        "\n",
        "# Dividing the physical damage by the magical damage\n",
        "# for each champion we have an indicator for its physical damage to its magical damage\n",
        "champs_damage_RDD = champs_damage_RDD.map(lambda x : (x[0], (x[1][0]  x[1][1])))"
      ],
      "metadata": {
        "id": "vLcQYHm8D65l"
      },
      "execution_count": null,
      "outputs": []
    },
    {
      "cell_type": "code",
      "source": [
        "champs_damage_RDD.take(5)"
      ],
      "metadata": {
        "colab": {
          "base_uri": "https://localhost:8080/"
        },
        "id": "QMBsHB4XMgoi",
        "outputId": "42038cf5-05ae-4e86-afb2-0bffd44e7bb2"
      },
      "execution_count": null,
      "outputs": [
        {
          "output_type": "execute_result",
          "data": {
            "text/plain": [
              "[('Lulu', -9380.487791837462),\n",
              " ('Mordekaiser', -90139.65549597856),\n",
              " ('Tryndamere', 165718.5915775401),\n",
              " ('Yasuo', 141286.7749542447),\n",
              " ('Yorick', 90489.63484087103)]"
            ]
          },
          "metadata": {},
          "execution_count": 91
        }
      ]
    }
  ]
}